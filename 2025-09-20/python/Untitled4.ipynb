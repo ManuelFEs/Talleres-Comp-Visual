{
  "nbformat": 4,
  "nbformat_minor": 0,
  "metadata": {
    "colab": {
      "provenance": []
    },
    "kernelspec": {
      "name": "python3",
      "display_name": "Python 3"
    },
    "language_info": {
      "name": "python"
    }
  },
  "cells": [
    {
      "cell_type": "code",
      "metadata": {
        "id": "95e0e10d"
      },
      "source": [
        "import matplotlib.pyplot as plt\n",
        "import numpy as np\n",
        "import imageio"
      ],
      "execution_count": 21,
      "outputs": []
    },
    {
      "cell_type": "code",
      "metadata": {
        "colab": {
          "base_uri": "https://localhost:8080/",
          "height": 88
        },
        "id": "3cd0161b",
        "outputId": "91304951-e3d6-4842-9e7f-2e48d397cc38"
      },
      "source": [
        "shape_vertices = np.array([\n",
        "    [0, 0, 1],\n",
        "    [1, 0, 1],\n",
        "    [1, 1, 1],\n",
        "    [0, 1, 1]\n",
        "])\n",
        "display(shape_vertices)"
      ],
      "execution_count": 22,
      "outputs": [
        {
          "output_type": "display_data",
          "data": {
            "text/plain": [
              "array([[0, 0, 1],\n",
              "       [1, 0, 1],\n",
              "       [1, 1, 1],\n",
              "       [0, 1, 1]])"
            ]
          },
          "metadata": {}
        }
      ]
    },
    {
      "cell_type": "code",
      "metadata": {
        "colab": {
          "base_uri": "https://localhost:8080/",
          "height": 428
        },
        "id": "1f5a2fbc",
        "outputId": "648af2a8-96dd-4f84-d458-cf444319e2f0"
      },
      "source": [
        "def translate(points, tx, ty):\n",
        "    translation_matrix = np.array([\n",
        "        [1, 0, tx],\n",
        "        [0, 1, ty],\n",
        "        [0, 0, 1]\n",
        "    ])\n",
        "    transformed_points = translation_matrix @ points.T\n",
        "    return transformed_points.T\n",
        "\n",
        "def rotate(points, angle_degrees, center=(0, 0)):\n",
        "    \"\"\"Applies rotation to a set of points using a transformation matrix.\"\"\"\n",
        "    angle_radians = np.radians(angle_degrees)\n",
        "    cos_angle = np.cos(angle_radians)\n",
        "    sin_angle = np.sin(angle_radians)\n",
        "\n",
        "    if center != (0, 0):\n",
        "        # Translate to origin\n",
        "        points_translated_to_origin = translate(points, -center[0], -center[1])\n",
        "    else:\n",
        "        points_translated_to_origin = points\n",
        "\n",
        "    rotation_matrix = np.array([\n",
        "        [cos_angle, -sin_angle, 0],\n",
        "        [sin_angle, cos_angle, 0],\n",
        "        [0, 0, 1]\n",
        "    ])\n",
        "\n",
        "    rotated_points_translated_to_origin = rotation_matrix @ points_translated_to_origin.T\n",
        "\n",
        "    if center != (0, 0):\n",
        "        # Translate back\n",
        "        rotated_points = translate(rotated_points_translated_to_origin.T, center[0], center[1])\n",
        "    else:\n",
        "        rotated_points = rotated_points_translated_to_origin.T\n",
        "\n",
        "    return rotated_points\n",
        "\n",
        "def scale(points, sx, sy):\n",
        "    \"\"\"Applies scaling to a set of points using a transformation matrix.\"\"\"\n",
        "    scaling_matrix = np.array([\n",
        "        [sx, 0, 0],\n",
        "        [0, sy, 0],\n",
        "        [0, 0, 1]\n",
        "    ])\n",
        "    scaled_points = scaling_matrix @ points.T\n",
        "    return scaled_points.T\n",
        "\n",
        "# Test the functions with the defined square\n",
        "translated_square = translate(shape_vertices, 2, 3)\n",
        "rotated_square = rotate(shape_vertices, 45)\n",
        "scaled_square = scale(shape_vertices, 2, 0.5)\n",
        "\n",
        "print(\"Original Square:\")\n",
        "display(shape_vertices)\n",
        "print(\"\\nTranslated Square:\")\n",
        "display(translated_square)\n",
        "print(\"\\nRotated Square (45 degrees):\")\n",
        "display(rotated_square)\n",
        "print(\"\\nScaled Square (sx=2, sy=0.5):\")\n",
        "display(scaled_square)"
      ],
      "execution_count": 23,
      "outputs": [
        {
          "output_type": "stream",
          "name": "stdout",
          "text": [
            "Original Square:\n"
          ]
        },
        {
          "output_type": "display_data",
          "data": {
            "text/plain": [
              "array([[0, 0, 1],\n",
              "       [1, 0, 1],\n",
              "       [1, 1, 1],\n",
              "       [0, 1, 1]])"
            ]
          },
          "metadata": {}
        },
        {
          "output_type": "stream",
          "name": "stdout",
          "text": [
            "\n",
            "Translated Square:\n"
          ]
        },
        {
          "output_type": "display_data",
          "data": {
            "text/plain": [
              "array([[2, 3, 1],\n",
              "       [3, 3, 1],\n",
              "       [3, 4, 1],\n",
              "       [2, 4, 1]])"
            ]
          },
          "metadata": {}
        },
        {
          "output_type": "stream",
          "name": "stdout",
          "text": [
            "\n",
            "Rotated Square (45 degrees):\n"
          ]
        },
        {
          "output_type": "display_data",
          "data": {
            "text/plain": [
              "array([[ 0.00000000e+00,  0.00000000e+00,  1.00000000e+00],\n",
              "       [ 7.07106781e-01,  7.07106781e-01,  1.00000000e+00],\n",
              "       [ 1.11022302e-16,  1.41421356e+00,  1.00000000e+00],\n",
              "       [-7.07106781e-01,  7.07106781e-01,  1.00000000e+00]])"
            ]
          },
          "metadata": {}
        },
        {
          "output_type": "stream",
          "name": "stdout",
          "text": [
            "\n",
            "Scaled Square (sx=2, sy=0.5):\n"
          ]
        },
        {
          "output_type": "display_data",
          "data": {
            "text/plain": [
              "array([[0. , 0. , 1. ],\n",
              "       [2. , 0. , 1. ],\n",
              "       [2. , 0.5, 1. ],\n",
              "       [0. , 0.5, 1. ]])"
            ]
          },
          "metadata": {}
        }
      ]
    },
    {
      "cell_type": "code",
      "metadata": {
        "id": "373df5ae"
      },
      "source": [
        "import io\n",
        "from PIL import Image\n",
        "\n",
        "frames = []\n",
        "num_frames = 100\n",
        "output_filename = \"animation.gif\"\n",
        "\n",
        "for i in range(num_frames):\n",
        "    # Calculate transformation parameters for the current frame\n",
        "    translation_x = 0.05 * i\n",
        "    translation_y = 0.03 * i\n",
        "    rotation_angle = 3.6 * i  # Rotate a full 360 degrees over 100 frames\n",
        "    scale_x = 1 + 0.01 * i\n",
        "    scale_y = 1 + 0.005 * i\n",
        "\n",
        "    # Construct transformation matrices\n",
        "    translation_matrix = np.array([\n",
        "        [1, 0, translation_x],\n",
        "        [0, 1, translation_y],\n",
        "        [0, 0, 1]\n",
        "    ])\n",
        "\n",
        "    angle_radians = np.radians(rotation_angle)\n",
        "    cos_angle = np.cos(angle_radians)\n",
        "    sin_angle = np.sin(angle_radians)\n",
        "    rotation_matrix = np.array([\n",
        "        [cos_angle, -sin_angle, 0],\n",
        "        [sin_angle, cos_angle, 0],\n",
        "        [0, 0, 1]\n",
        "    ])\n",
        "\n",
        "    scaling_matrix = np.array([\n",
        "        [scale_x, 0, 0],\n",
        "        [0, scale_y, 0],\n",
        "        [0, 0, 1]\n",
        "    ])\n",
        "\n",
        "    # Combine transformation matrices (scale, then rotate, then translate)\n",
        "    composite_matrix = translation_matrix @ rotation_matrix @ scaling_matrix\n",
        "\n",
        "    # Apply the composite transformation\n",
        "    transformed_vertices = (composite_matrix @ shape_vertices.T).T\n",
        "\n",
        "    # Create and plot the current frame\n",
        "    fig, ax = plt.subplots(figsize=(6, 6))\n",
        "    # Plot the original shape for reference (optional)\n",
        "    # ax.plot(shape_vertices[:, 0], shape_vertices[:, 1], 'k--', alpha=0.5)\n",
        "    ax.plot(np.append(transformed_vertices[:, 0], transformed_vertices[0, 0]),\n",
        "            np.append(transformed_vertices[:, 1], transformed_vertices[0, 1]), 'b-')\n",
        "\n",
        "    # Set axis limits to ensure visibility\n",
        "    ax.set_xlim(-5, 10)\n",
        "    ax.set_ylim(-5, 10)\n",
        "    ax.set_aspect('equal', adjustable='box')\n",
        "    ax.set_title(f'Frame {i+1}')\n",
        "    ax.grid(True)\n",
        "\n",
        "    # Save the figure to a BytesIO buffer\n",
        "    buf = io.BytesIO()\n",
        "    plt.savefig(buf, format='png')\n",
        "    buf.seek(0)\n",
        "    img = Image.open(buf)\n",
        "    frames.append(np.array(img))\n",
        "\n",
        "    plt.close(fig)"
      ],
      "execution_count": 24,
      "outputs": []
    },
    {
      "cell_type": "code",
      "metadata": {
        "id": "IdFtWcU2aj9L"
      },
      "source": [
        "import io\n",
        "from PIL import Image\n",
        "\n",
        "frames = []\n",
        "num_frames = 100\n",
        "output_filename = \"animation.gif\"\n",
        "\n",
        "for i in range(num_frames):\n",
        "    translation_x = 0.05 * i\n",
        "    translation_y = 0.03 * i\n",
        "    rotation_angle = 3.6 * i  # Rotate a full 360 degrees over 100 frames\n",
        "    scale_x = 1 + 0.01 * i\n",
        "    scale_y = 1 + 0.005 * i\n",
        "\n",
        "    translation_matrix = np.array([\n",
        "        [1, 0, translation_x],\n",
        "        [0, 1, translation_y],\n",
        "        [0, 0, 1]\n",
        "    ])\n",
        "\n",
        "    angle_radians = np.radians(rotation_angle)\n",
        "    cos_angle = np.cos(angle_radians)\n",
        "    sin_angle = np.sin(angle_radians)\n",
        "    rotation_matrix = np.array([\n",
        "        [cos_angle, -sin_angle, 0],\n",
        "        [sin_angle, cos_angle, 0],\n",
        "        [0, 0, 1]\n",
        "    ])\n",
        "\n",
        "    scaling_matrix = np.array([\n",
        "        [scale_x, 0, 0],\n",
        "        [0, scale_y, 0],\n",
        "        [0, 0, 1]\n",
        "    ])\n",
        "\n",
        "    composite_matrix = translation_matrix @ rotation_matrix @ scaling_matrix\n",
        "\n",
        "    transformed_vertices = (composite_matrix @ shape_vertices.T).T\n",
        "\n",
        "    fig, ax = plt.subplots(figsize=(6, 6))\n",
        "\n",
        "    ax.plot(np.append(transformed_vertices[:, 0], transformed_vertices[0, 0]),\n",
        "            np.append(transformed_vertices[:, 1], transformed_vertices[0, 1]), 'b-')\n",
        "\n",
        "    # Set axis limits to ensure visibility\n",
        "    ax.set_xlim(-5, 10)\n",
        "    ax.set_ylim(-5, 10)\n",
        "    ax.set_aspect('equal', adjustable='box')\n",
        "    ax.set_title(f'Frame {i+1}')\n",
        "    ax.grid(True)\n",
        "\n",
        "    # Save the figure to a BytesIO buffer\n",
        "    buf = io.BytesIO()\n",
        "    plt.savefig(buf, format='png')\n",
        "    buf.seek(0)\n",
        "    img = Image.open(buf)\n",
        "    frames.append(np.array(img))\n",
        "\n",
        "    plt.close(fig)"
      ],
      "execution_count": 25,
      "outputs": []
    },
    {
      "cell_type": "code",
      "metadata": {
        "colab": {
          "base_uri": "https://localhost:8080/"
        },
        "id": "87fc44bc",
        "outputId": "fce7af25-91e5-4383-f317-f08e575f8e8e"
      },
      "source": [
        "imageio.mimsave(output_filename, frames, duration=0.1)\n",
        "print(f\"Animation saved as {output_filename}\")"
      ],
      "execution_count": 26,
      "outputs": [
        {
          "output_type": "stream",
          "name": "stdout",
          "text": [
            "Animation saved as animation.gif\n"
          ]
        }
      ]
    }
  ]
}