{
  "cells": [
    {
      "cell_type": "code",
      "execution_count": 1,
      "metadata": {
        "id": "2E8P0oF_fvNU"
      },
      "outputs": [],
      "source": [
        "import cv2\n",
        "import numpy as np\n",
        "#from google.colab.patches import cv2_imshow\n",
        "import ipywidgets as widgets\n",
        "from IPython.display import clear_output\n",
        "import matplotlib.pyplot as plt"
      ]
    },
    {
      "cell_type": "code",
      "execution_count": 2,
      "metadata": {
        "id": "jx6rPwxzN8fD"
      },
      "outputs": [],
      "source": [
        "# Load image\n",
        "doGray = 1\n",
        "\n",
        "img = cv2.imread('sample2.jpg')\n",
        "\n",
        "# Convert to grayscale\n",
        "if (doGray):\n",
        "    imgToBlur = cv2.cvtColor(img, cv2.COLOR_BGR2GRAY)\n",
        "\n",
        "    imgtoSharp = cv2.cvtColor(img, cv2.COLOR_BGR2GRAY)\n",
        "\n",
        "    imgtoBorder = cv2.cvtColor(img, cv2.COLOR_BGR2GRAY)\n",
        "else:\n",
        "    imgToBlur, imgtoBorder, imgtoSharp = img, img, img\n",
        "\n"
      ]
    },
    {
      "cell_type": "markdown",
      "metadata": {},
      "source": [
        "## Kernel Blur\n",
        "este kernel obtiene el valor promedio de todos los pixeles en una matriz de n x n, ese valor promedio genera una difusión de los colores de la imagen creando ese efecto borroso"
      ]
    },
    {
      "cell_type": "code",
      "execution_count": 3,
      "metadata": {
        "colab": {
          "base_uri": "https://localhost:8080/",
          "height": 797,
          "referenced_widgets": [
            "8478dbe0a46c4cf091c0335fa9d90f52",
            "20f6b3339a7d4bf79c066d130c30ecf1",
            "c6e0e28b6e1940c2ba2ff8b882794ba6",
            "55fee21b609744aa9c394015dea538b5",
            "851ed87dc10a4b6ea890533f7d130e1d",
            "935499228cc743418ecc8955631a0fc3",
            "9488ca97b5764163862a94d3c68cd3a7"
          ]
        },
        "id": "-e45wDsFSAEW",
        "outputId": "16945a33-cfa3-4da9-96a0-77555643b911"
      },
      "outputs": [
        {
          "data": {
            "application/vnd.jupyter.widget-view+json": {
              "model_id": "b8c9c7e5a4b247c7a609d88b034b76a9",
              "version_major": 2,
              "version_minor": 0
            },
            "text/plain": [
              "interactive(children=(IntSlider(value=3, description='kernel_size', max=51, min=1, step=2), Output()), _dom_cl…"
            ]
          },
          "metadata": {},
          "output_type": "display_data"
        }
      ],
      "source": [
        "\n",
        "def apply_blur(kernel_size):\n",
        "    # kernel_size must be odd and >= 1\n",
        "    if kernel_size % 2 == 0:\n",
        "        kernel_size += 1\n",
        "\n",
        "    kernel = np.ones((kernel_size, kernel_size), np.float32) / (kernel_size**2)\n",
        "\n",
        "    # Apply blur\n",
        "    blurred = cv2.filter2D(imgToBlur, -1, kernel)\n",
        "    \n",
        "    print(f\"Kernel size: {kernel_size}x{kernel_size}\")\n",
        "    combined = np.hstack((imgToBlur, blurred))\n",
        "    \n",
        "    combined_rgb = cv2.cvtColor(combined, cv2.COLOR_BGR2RGB)\n",
        "\n",
        "    plt.imshow(combined_rgb, cmap='gray')\n",
        "    plt.axis('off')\n",
        "    plt.show()\n",
        "\n",
        "# Slider widget (odd numbers only)\n",
        "slider = widgets.IntSlider(value=3, min=1, max=51, step=2)\n",
        "\n",
        "widgets.interact(apply_blur, kernel_size=slider);"
      ]
    },
    {
      "cell_type": "markdown",
      "metadata": {},
      "source": [
        "## Kernel Sharp\n",
        "Este kernel realza el contraste entre pixeles en sus bordes, similar al edge detection, pero de una forma más simple, por lo que se centra más en encontrar cambios fuertes de color"
      ]
    },
    {
      "cell_type": "code",
      "execution_count": 4,
      "metadata": {
        "colab": {
          "base_uri": "https://localhost:8080/",
          "height": 780,
          "referenced_widgets": [
            "2c9e86a604da4af780de7db47c7b6bbf",
            "647d0f22d0194a62a87846f56cb4e97c",
            "e5d8d5785ae64a879b054e1fe93edcde",
            "2a202283087649038bc541d4b1abe4f0",
            "94873460ba2b40939fba344498b5dc08",
            "775fdd49ede04fd0890d238fc13dd9ed",
            "43608e7219a34789981f9342f8008025"
          ]
        },
        "id": "rv8P17OyZprC",
        "outputId": "6df3c799-b899-42a0-f114-626ea8afa3b6"
      },
      "outputs": [
        {
          "data": {
            "application/vnd.jupyter.widget-view+json": {
              "model_id": "4a1efe1832de44e987847d618a054013",
              "version_major": 2,
              "version_minor": 0
            },
            "text/plain": [
              "interactive(children=(IntSlider(value=1, description='Sharpness', max=20), Output()), _dom_classes=('widget-in…"
            ]
          },
          "metadata": {},
          "output_type": "display_data"
        }
      ],
      "source": [
        "def apply_sharpen(intensity):\n",
        "    # Adjust sharpening strength (center value = 5 + intensity)\n",
        "    sharp_kernel = np.array([\n",
        "        [0, -1,  0],\n",
        "        [-1,  4 + intensity, -1],\n",
        "        [0, -1,  0]\n",
        "    ], np.float32)\n",
        "\n",
        "    sharpened = cv2.filter2D(imgtoSharp, -1, sharp_kernel)\n",
        "\n",
        "    combined = np.hstack((imgtoSharp, sharpened))\n",
        "\n",
        "    combined = cv2.cvtColor(combined, cv2.COLOR_BGR2RGB)\n",
        "\n",
        "    plt.imshow(combined, cmap='gray')\n",
        "    plt.axis('off')\n",
        "    plt.show()\n",
        "\n",
        "slider = widgets.IntSlider(value=1, min=0, max=20, step=1, description='Sharpness')\n",
        "\n",
        "widgets.interact(apply_sharpen, intensity=slider);\n"
      ]
    },
    {
      "cell_type": "markdown",
      "metadata": {},
      "source": [
        "## Kernel Edge\n",
        "Este kernel realza aún más los bordes combinando más de un kernel con el fin de obtener los bordes en todas las direcciones, luego se obtiene el valor mayor de estos kernels con lo que se obtienen los bordes"
      ]
    },
    {
      "cell_type": "code",
      "execution_count": 5,
      "metadata": {
        "colab": {
          "base_uri": "https://localhost:8080/",
          "height": 797,
          "referenced_widgets": [
            "b88eca339a534bd78907b8e01a2b0801",
            "c65d2e0faf144d2283d8a6af9a42cb4f",
            "4a5c06d0e8164cc58537659f9eb5c315",
            "22cd0125d6fb474b81aecb224ea2c24c",
            "f1f141e825e944a8b7257e76895af1c0",
            "0c57b87a92b94e5bb9170ef06d3bbea2",
            "3448bd927c8f44b598ad83eb210eeeeb"
          ]
        },
        "id": "iRuafjCgutc7",
        "outputId": "f0f1b299-18cc-4d62-d9f3-40621b502929"
      },
      "outputs": [
        {
          "data": {
            "application/vnd.jupyter.widget-view+json": {
              "model_id": "8ec4924aef78476abf2d6240641b93fb",
              "version_major": 2,
              "version_minor": 0
            },
            "text/plain": [
              "interactive(children=(IntSlider(value=1, description='Enhance', max=10), Output()), _dom_classes=('widget-inte…"
            ]
          },
          "metadata": {},
          "output_type": "display_data"
        },
        {
          "data": {
            "text/plain": [
              "<function __main__.enhance_edges_corners(strength)>"
            ]
          },
          "execution_count": 5,
          "metadata": {},
          "output_type": "execute_result"
        }
      ],
      "source": [
        "# Define kernels\n",
        "\n",
        "kirsch_kernels = [\n",
        "    np.array([[ 5,  5,  5],\n",
        "              [-3,  0, -3],\n",
        "              [-3, -3, -3]], np.float32),  # North\n",
        "\n",
        "    np.array([[-3,  5,  5],\n",
        "              [-3,  0,  5],\n",
        "              [-3, -3, -3]], np.float32),  # Northwest\n",
        "\n",
        "    np.array([[-3, -3,  5],\n",
        "              [-3,  0,  5],\n",
        "              [-3, -3,  5]], np.float32),  # West\n",
        "\n",
        "    np.array([[-3, -3, -3],\n",
        "              [-3,  0,  5],\n",
        "              [-3,  5,  5]], np.float32),  # Southwest\n",
        "\n",
        "    np.array([[-3, -3, -3],\n",
        "              [-3,  0, -3],\n",
        "              [ 5,  5,  5]], np.float32),  # South\n",
        "\n",
        "    np.array([[-3, -3, -3],\n",
        "              [ 5,  0, -3],\n",
        "              [ 5,  5, -3]], np.float32),  # Southeast\n",
        "\n",
        "    np.array([[ 5, -3, -3],\n",
        "              [ 5,  0, -3],\n",
        "              [ 5, -3, -3]], np.float32),  # East\n",
        "\n",
        "    np.array([[ 5,  5, -3],\n",
        "              [ 5,  0, -3],\n",
        "              [-3, -3, -3]], np.float32),  # Northeast\n",
        "]\n",
        "\n",
        "def enhance_edges_corners(strength):\n",
        "    # Scale kernels with intensity\n",
        "    #lap_k = laplacian_kernel * (1 + strength / 5)\n",
        "    cor_k =  [k * (strength / 5) for k in kirsch_kernels]\n",
        "\n",
        "    #edges = cv2.filter2D(imgtoBorder, -1, lap_k)\n",
        "\n",
        "    # Combine edge and corner maps\n",
        "    responses = [cv2.filter2D(imgtoBorder, -1, k) for k in cor_k]\n",
        "    bordered = np.max(responses, axis=0)\n",
        "\n",
        "    # Convert to 3 channels for side-by-side display\n",
        "\n",
        "    combined = np.hstack((imgtoBorder, bordered))\n",
        "\n",
        "    combined = cv2.cvtColor(combined, cv2.COLOR_BGR2RGB)\n",
        "    \n",
        "    plt.imshow(combined, cmap='gray')\n",
        "    plt.axis('off')\n",
        "    plt.show()\n",
        "# Slider (0–10)\n",
        "slider = widgets.IntSlider(value=1, min=0, max=10, step=1, description='Enhance')\n",
        "\n",
        "widgets.interact(enhance_edges_corners, strength=slider)\n"
      ]
    }
  ],
  "metadata": {
    "colab": {
      "provenance": []
    },
    "kernelspec": {
      "display_name": "Python 3",
      "name": "python3"
    },
    "language_info": {
      "codemirror_mode": {
        "name": "ipython",
        "version": 3
      },
      "file_extension": ".py",
      "mimetype": "text/x-python",
      "name": "python",
      "nbconvert_exporter": "python",
      "pygments_lexer": "ipython3",
      "version": "3.13.7"
    },
  },
  "nbformat": 4,
  "nbformat_minor": 0
}
