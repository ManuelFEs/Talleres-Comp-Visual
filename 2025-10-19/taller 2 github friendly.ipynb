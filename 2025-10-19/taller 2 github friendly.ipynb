{
 "cells": [
  {
   "cell_type": "code",
   "execution_count": 2,
   "metadata": {},
   "outputs": [
    {
     "name": "stdout",
     "output_type": "stream",
     "text": [
      "Requirement already satisfied: opencv-python in /home/Felipe/.var/app/org.jupyter.JupyterLab/config/jupyterlab-desktop/jlab_server/lib/python3.12/site-packages (4.12.0.88)\n",
      "Requirement already satisfied: numpy in /home/Felipe/.var/app/org.jupyter.JupyterLab/config/jupyterlab-desktop/jlab_server/lib/python3.12/site-packages (2.1.0)\n",
      "Requirement already satisfied: matplotlib in /home/Felipe/.var/app/org.jupyter.JupyterLab/config/jupyterlab-desktop/jlab_server/lib/python3.12/site-packages (3.9.2)\n",
      "Requirement already satisfied: contourpy>=1.0.1 in /home/Felipe/.var/app/org.jupyter.JupyterLab/config/jupyterlab-desktop/jlab_server/lib/python3.12/site-packages (from matplotlib) (1.2.1)\n",
      "Requirement already satisfied: cycler>=0.10 in /home/Felipe/.var/app/org.jupyter.JupyterLab/config/jupyterlab-desktop/jlab_server/lib/python3.12/site-packages (from matplotlib) (0.12.1)\n",
      "Requirement already satisfied: fonttools>=4.22.0 in /home/Felipe/.var/app/org.jupyter.JupyterLab/config/jupyterlab-desktop/jlab_server/lib/python3.12/site-packages (from matplotlib) (4.53.1)\n",
      "Requirement already satisfied: kiwisolver>=1.3.1 in /home/Felipe/.var/app/org.jupyter.JupyterLab/config/jupyterlab-desktop/jlab_server/lib/python3.12/site-packages (from matplotlib) (1.4.5)\n",
      "Requirement already satisfied: packaging>=20.0 in /home/Felipe/.var/app/org.jupyter.JupyterLab/config/jupyterlab-desktop/jlab_server/lib/python3.12/site-packages (from matplotlib) (24.1)\n",
      "Requirement already satisfied: pillow>=8 in /home/Felipe/.var/app/org.jupyter.JupyterLab/config/jupyterlab-desktop/jlab_server/lib/python3.12/site-packages (from matplotlib) (10.4.0)\n",
      "Requirement already satisfied: pyparsing>=2.3.1 in /home/Felipe/.var/app/org.jupyter.JupyterLab/config/jupyterlab-desktop/jlab_server/lib/python3.12/site-packages (from matplotlib) (3.1.4)\n",
      "Requirement already satisfied: python-dateutil>=2.7 in /home/Felipe/.var/app/org.jupyter.JupyterLab/config/jupyterlab-desktop/jlab_server/lib/python3.12/site-packages (from matplotlib) (2.9.0)\n",
      "Requirement already satisfied: six>=1.5 in /home/Felipe/.var/app/org.jupyter.JupyterLab/config/jupyterlab-desktop/jlab_server/lib/python3.12/site-packages (from python-dateutil>=2.7->matplotlib) (1.16.0)\n"
     ]
    }
   ],
   "source": [
    "!pip install opencv-python numpy matplotlib"
   ]
  },
  {
   "cell_type": "code",
   "execution_count": 3,
   "metadata": {},
   "outputs": [],
   "source": [
    "import cv2\n",
    "import numpy as np\n",
    "#from google.colab.patches import cv2_imshow\n",
    "import ipywidgets as widgets\n",
    "from IPython.display import clear_output\n",
    "import matplotlib.pyplot as plt"
   ]
  },
  {
   "cell_type": "code",
   "execution_count": 4,
   "metadata": {},
   "outputs": [],
   "source": [
    "# Load image\n",
    "doGray = 1\n",
    "\n",
    "img = cv2.imread('sample2.jpg')\n",
    "\n",
    "# Convert to grayscale\n",
    "if (doGray):\n",
    "    imgToBlur = cv2.cvtColor(img, cv2.COLOR_BGR2GRAY)\n",
    "\n",
    "    imgtoSharp = cv2.cvtColor(img, cv2.COLOR_BGR2GRAY)\n",
    "\n",
    "    imgtoBorder = cv2.cvtColor(img, cv2.COLOR_BGR2GRAY)\n",
    "else:\n",
    "    imgToBlur, imgtoBorder, imgtoSharp = img, img, img\n",
    "\n"
   ]
  },
  {
   "cell_type": "markdown",
   "metadata": {},
   "source": [
    "## Kernel Blur\n",
    "este kernel obtiene el valor promedio de todos los pixeles en una matriz de n x n, ese valor promedio genera una difusión de los colores de la imagen creando ese efecto borroso"
   ]
  },
  {
   "cell_type": "code",
   "execution_count": 5,
   "metadata": {},
   "outputs": [
    {
     "data": {
      "application/vnd.jupyter.widget-view+json": {
       "model_id": "f7efecbbcfde4fb4a8a81461f96f0c3a",
       "version_major": 2,
       "version_minor": 0
      },
      "text/plain": [
       "interactive(children=(IntSlider(value=3, description='kernel_size', max=51, min=1, step=2), Output()), _dom_cl…"
      ]
     },
     "metadata": {},
     "output_type": "display_data"
    }
   ],
   "source": [
    "\n",
    "def apply_blur(kernel_size):\n",
    "    # kernel_size must be odd and >= 1\n",
    "    if kernel_size % 2 == 0:\n",
    "        kernel_size += 1\n",
    "\n",
    "    kernel = np.ones((kernel_size, kernel_size), np.float32) / (kernel_size**2)\n",
    "\n",
    "    # Apply blur\n",
    "    blurred = cv2.filter2D(imgToBlur, -1, kernel)\n",
    "    \n",
    "    print(f\"Kernel size: {kernel_size}x{kernel_size}\")\n",
    "    combined = np.hstack((imgToBlur, blurred))\n",
    "    \n",
    "    combined_rgb = cv2.cvtColor(combined, cv2.COLOR_BGR2RGB)\n",
    "\n",
    "    plt.imshow(combined_rgb, cmap='gray')\n",
    "    plt.axis('off')\n",
    "    plt.show()\n",
    "\n",
    "# Slider widget (odd numbers only)\n",
    "slider = widgets.IntSlider(value=3, min=1, max=51, step=2)\n",
    "\n",
    "widgets.interact(apply_blur, kernel_size=slider);"
   ]
  },
  {
   "cell_type": "markdown",
   "metadata": {},
   "source": [
    "## Kernel Sharp\n",
    "Este kernel realza el contraste entre pixeles en sus bordes, similar al edge detection, pero de una forma más simple, por lo que se centra más en encontrar cambios fuertes de color"
   ]
  },
  {
   "cell_type": "code",
   "execution_count": 6,
   "metadata": {},
   "outputs": [
    {
     "data": {
      "application/vnd.jupyter.widget-view+json": {
       "model_id": "5822f89982bb42c5a7d52bb6c2f4ae65",
       "version_major": 2,
       "version_minor": 0
      },
      "text/plain": [
       "interactive(children=(IntSlider(value=1, description='Sharpness', max=20), Output()), _dom_classes=('widget-in…"
      ]
     },
     "metadata": {},
     "output_type": "display_data"
    }
   ],
   "source": [
    "def apply_sharpen(intensity):\n",
    "    # Adjust sharpening strength (center value = 5 + intensity)\n",
    "    sharp_kernel = np.array([\n",
    "        [0, -1,  0],\n",
    "        [-1,  4 + intensity, -1],\n",
    "        [0, -1,  0]\n",
    "    ], np.float32)\n",
    "\n",
    "    sharpened = cv2.filter2D(imgtoSharp, -1, sharp_kernel)\n",
    "\n",
    "    combined = np.hstack((imgtoSharp, sharpened))\n",
    "\n",
    "    combined = cv2.cvtColor(combined, cv2.COLOR_BGR2RGB)\n",
    "\n",
    "    plt.imshow(combined, cmap='gray')\n",
    "    plt.axis('off')\n",
    "    plt.show()\n",
    "\n",
    "slider = widgets.IntSlider(value=1, min=0, max=20, step=1, description='Sharpness')\n",
    "\n",
    "widgets.interact(apply_sharpen, intensity=slider);\n"
   ]
  },
  {
   "cell_type": "markdown",
   "metadata": {},
   "source": [
    "## Kernel Edge\n",
    "Este kernel realza aún más los bordes combinando más de un kernel con el fin de obtener los bordes en todas las direcciones, luego se obtiene el valor mayor de estos kernels con lo que se obtienen los bordes"
   ]
  },
  {
   "cell_type": "code",
   "execution_count": 7,
   "metadata": {},
   "outputs": [
    {
     "data": {
      "application/vnd.jupyter.widget-view+json": {
       "model_id": "acfdf369c6924c0ebb272e7e0bbf53cb",
       "version_major": 2,
       "version_minor": 0
      },
      "text/plain": [
       "interactive(children=(IntSlider(value=1, description='Enhance', max=10), Output()), _dom_classes=('widget-inte…"
      ]
     },
     "metadata": {},
     "output_type": "display_data"
    }
   ],
   "source": [
    "# Define kernels\n",
    "\n",
    "kirsch_kernels = [\n",
    "    np.array([[ 5,  5,  5],\n",
    "              [-3,  0, -3],\n",
    "              [-3, -3, -3]], np.float32),  # North\n",
    "\n",
    "    np.array([[-3,  5,  5],\n",
    "              [-3,  0,  5],\n",
    "              [-3, -3, -3]], np.float32),  # Northwest\n",
    "\n",
    "    np.array([[-3, -3,  5],\n",
    "              [-3,  0,  5],\n",
    "              [-3, -3,  5]], np.float32),  # West\n",
    "\n",
    "    np.array([[-3, -3, -3],\n",
    "              [-3,  0,  5],\n",
    "              [-3,  5,  5]], np.float32),  # Southwest\n",
    "\n",
    "    np.array([[-3, -3, -3],\n",
    "              [-3,  0, -3],\n",
    "              [ 5,  5,  5]], np.float32),  # South\n",
    "\n",
    "    np.array([[-3, -3, -3],\n",
    "              [ 5,  0, -3],\n",
    "              [ 5,  5, -3]], np.float32),  # Southeast\n",
    "\n",
    "    np.array([[ 5, -3, -3],\n",
    "              [ 5,  0, -3],\n",
    "              [ 5, -3, -3]], np.float32),  # East\n",
    "\n",
    "    np.array([[ 5,  5, -3],\n",
    "              [ 5,  0, -3],\n",
    "              [-3, -3, -3]], np.float32),  # Northeast\n",
    "]\n",
    "\n",
    "def enhance_edges_corners(strength):\n",
    "    # Scale kernels with intensity\n",
    "    #lap_k = laplacian_kernel * (1 + strength / 5)\n",
    "    cor_k =  [k * (strength / 5) for k in kirsch_kernels]\n",
    "\n",
    "    #edges = cv2.filter2D(imgtoBorder, -1, lap_k)\n",
    "\n",
    "    # Combine edge and corner maps\n",
    "    responses = [cv2.filter2D(imgtoBorder, -1, k) for k in cor_k]\n",
    "    bordered = np.max(responses, axis=0)\n",
    "\n",
    "    # Convert to 3 channels for side-by-side display\n",
    "\n",
    "    combined = np.hstack((imgtoBorder, bordered))\n",
    "\n",
    "    combined = cv2.cvtColor(combined, cv2.COLOR_BGR2RGB)\n",
    "    \n",
    "    plt.imshow(combined, cmap='gray')\n",
    "    plt.axis('off')\n",
    "    plt.show()\n",
    "# Slider (0–10)\n",
    "slider = widgets.IntSlider(value=1, min=0, max=10, step=1, description='Enhance')\n",
    "\n",
    "widgets.interact(enhance_edges_corners, strength=slider);\n"
   ]
  }
 ],
 "metadata": {
  "kernelspec": {
   "display_name": "Python 3 (ipykernel)",
   "language": "python",
   "name": "python3"
  },
  "language_info": {
   "codemirror_mode": {
    "name": "ipython",
    "version": 3
   },
   "file_extension": ".py",
   "mimetype": "text/x-python",
   "name": "python",
   "nbconvert_exporter": "python",
   "pygments_lexer": "ipython3",
   "version": "3.12.5"
  }
 },
 "nbformat": 4,
 "nbformat_minor": 4
}
